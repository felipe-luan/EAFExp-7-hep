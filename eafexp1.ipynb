{
 "cells": [
  {
   "cell_type": "markdown",
   "metadata": {},
   "source": [
    "# EAFExp - Análise: distribuição angular de múons  \n",
    "\n",
    "Vamos utilizar os dados coletados por nosso setup experimental para analisar o fluxo e a distribuição angular de múons que chegam à superfície da Terra no Rio de Janeiro. O *setup* experimental que utilizamos para coletar dados é formado por um par de *Resistive Plate Chambers* (RPCs) separadas verticalmente por uma distância fixa de 180 cm. Cada RPC possui 64 *pads* independentes de leitura, com dimensões 19cm x 15cm.\n",
    "\n",
    "<img src=\"esquema.png\" width=\"400\" height=\"200\"/>\n",
    "\n",
    "\n",
    "Os dados coletados por nosso *setup* experimental consistem em arquivos de texto contendo duas \"palavras\" (*string*s) de 64-*bits*: um conjunto de 128 dígitos. Os 64 primeiros dígitos correspondem às *pads* da RPC de cima, enquanto os 64 últimos digitos correspondem às *pads* da RPC de baixo. Cada linha do arquivo corresponde a um evento de detecção em coincidência, isto é, corresponde à leitura de um sinal elétrico em pelo menos uma pad de cada RPC simultaneamente. Para as RPCs onde houve detecção de algum sinal elétrico, o dígito registrado será 1; para as demais, será 0. Por exemplo, para a linha: 00100000... 000000...001, podemos dizer que o evento ocorreu nas pads 3 (da RPC superior) e 64 (da RPC inferior).\n",
    "\n",
    "Nossa primeira tarefa é, então, ler os arquivos de texto que contém essas informações e identificar, para cada evento, o número da *pad* sensibilizada em cada uma das RPCs. Podemos fazer isso de diferentes maneiras, que serão indicadas a seguir. Posteriormente, precisaremos aprender a extrair informações sobre a **trajetória** dos múons a partir do número das *pads* sensibilizadas e das dimensões do nosso detector."
   ]
  },
  {
   "cell_type": "markdown",
   "metadata": {},
   "source": [
    "## Inspecionando um arquivo de dados\n",
    "\n",
    "Antes de escrevermos um código para extrair o número das *pads* onde houve detecção para cada evento coletado, vamos primeiro inspecionar um arquivo de dados: `sem_chumbo_test.txt`. Este arquivo contém apenas poucos eventos, e vamos utilizá-lo apenas numa primeira etapa para entender os algoritmos a seguir. Abra o arquivo `sem_chumbo_test.txt` e responda, fazendo apenas uma inspeção visual:\n",
    "\n",
    "1. Quantos eventos estão registrados nesse arquivo? <details><summary>*R*:</summary> Cada linha representa um evento, logo há 3 eventos nesse arquivo.</details>\n",
    "\n",
    "2. Quais as *pads* em que houve detecção em cada RPC, para cada evento? <details><summary>*R*:</summary>RPC de cima: pads 1, 6, 13; RPC de baixo: 64, 61, 3. </details>\n"
   ]
  },
  {
   "cell_type": "markdown",
   "metadata": {},
   "source": [
    "## Leitura dos arquivos de dados - método 1\n",
    "\n",
    "A ideia é simples, embora não muito eficiente: \n",
    "1. varrer os arquivos de dados, lendo uma linha por vez;\n",
    "2. salvar cada coluna de cada linha em uma string;\n",
    "3. percorrer as strings, verificando se cada elemento é igual a 1: se sim, guarda a posição do elemento\n",
    "Assim, poderemos identificar as pads em cada RPC onde houve um hit.\n",
    "Veja a função abaixo, getNpads_1(), que implementa este tipo de algoritmo para retornar listas contendo os números das pads onde houve detecção.\n",
    "\n",
    "*Obs*: você entende por quê fazemos `append(i+1)` e não `append(i)` para inserir a posição da RPC na lista? <details><summary>*R*:</summary> Porque as listas são indexadas a partir do 0, portanto a varredura vai de 0 a 63 correspondendo aos elementos entre 1 e 64 das strings.</details> "
   ]
  },
  {
   "cell_type": "code",
   "execution_count": 1,
   "metadata": {},
   "outputs": [
    {
     "data": {
      "text/plain": [
       "([1, 6, 13], [64, 61, 3])"
      ]
     },
     "execution_count": 1,
     "metadata": {},
     "output_type": "execute_result"
    }
   ],
   "source": [
    "def getNpads_1(nome_arquivo='sem_chumbo_test.txt'):\n",
    "    arquivo = open(nome_arquivo, 'r')          #le o arquivo txt\n",
    "    nPads_RPC1, nPads_RPC2 = [], []\n",
    "    for linha in arquivo:                      #1. varre o arquivo de dados, lendo uma linha por vez\n",
    "        rpcs = linha.split()                   #2. separa cada linha em um array de duas strings: rpc => [rpc1, rpc2] \n",
    "        n_pads = len(rpcs[0])                  # n_pads => numero de pads (iguais nas 2 rpcs) igual ao tamanho de cada string\n",
    "        rpc1 = rpcs[0]\n",
    "        rpc2 = rpcs[1]\n",
    "        for i in range(n_pads):                #3. percorre as strings verificando se cada elemento é igual a 1\n",
    "            if rpc1[i] == \"1\":                 # se o elemento é igual a 1, guarda a posição do elemento na lista correspondente\n",
    "                nPads_RPC1.append(i+1)\n",
    "            if rpc2[i] == \"1\":\n",
    "                nPads_RPC2.append(i+1)\n",
    "\n",
    "    return nPads_RPC1, nPads_RPC2\n",
    "\n",
    "getNpads_1()"
   ]
  },
  {
   "cell_type": "code",
   "execution_count": 3,
   "metadata": {},
   "outputs": [],
   "source": [
    "def getNpads_1(nome_arquivo='sem_chumbov1.txt'):\n",
    "    arquivo = open(nome_arquivo, 'r')          #le o arquivo txt\n",
    "    nPads_RPC1, nPads_RPC2 = [], []\n",
    "    for linha in arquivo:                      #1. varre o arquivo de dados, lendo uma linha por vez\n",
    "        rpcs = linha.split()                   #2. separa cada linha em um array de duas strings: rpc => [rpc1, rpc2] \n",
    "        n_pads = len(rpcs[0])                  # n_pads => numero de pads (iguais nas 2 rpcs) igual ao tamanho de cada string\n",
    "        rpc1 = rpcs[0]\n",
    "        rpc2 = rpcs[1]\n",
    "        for i in range(n_pads):                #3. percorre as strings verificando se cada elemento é igual a 1\n",
    "            if rpc1[i] == \"1\":                 # se o elemento é igual a 1, guarda a posição do elemento na lista correspondente\n",
    "                nPads_RPC1.append(i+1)\n",
    "            if rpc2[i] == \"1\":\n",
    "                nPads_RPC2.append(i+1)\n",
    "\n",
    "    return nPads_RPC1, nPads_RPC2\n",
    "\n",
    "getNpads_1()"
   ]
  },
  {
   "cell_type": "markdown",
   "metadata": {},
   "source": [
    "## Leitura do arquivo de dados - método 2\n",
    "\n",
    "Uma forma mais eficiente de identificar as *pads* onde houve coincidência é utilizando... **logaritmos**!\n",
    "Basta observar que, para um evento onde a detecção ocorreu na *pad* 1 para a primeira RPC, por exemplo, a primeira coluna é composta pelo dígito 1 seguido de 63 dígitos 0. Como um número, isso representa 10^(63). Note que o logaritmo na base 10 de uma potência de 10 nos dirá exatamente quantos dígitos 0 temos **depois** do dígito 1. Logo, podemos calcular então a *pad* correspondente fazendo simplesmente 64 - log(10^63) = 1. \n",
    "\n",
    "Desse modo, podemos identificar as *pads* sem precisar fazer muitas comparações. Simples, não?! Veja a implementação em código na função getNpads_2() a seguir:"
   ]
  },
  {
   "cell_type": "code",
   "execution_count": null,
   "metadata": {},
   "outputs": [],
   "source": [
    "from math import log10\n",
    "\n",
    "def getNpads_2(nome_arquivo='sem_chumbo_test.txt'):\n",
    "    arquivo = open(nome_arquivo, 'r')          #le o arquivo txt\n",
    "    nPads_RPC1, nPads_RPC2 = [], []\n",
    "    for linha in arquivo:                      #1. varre o arquivo de dados, lendo uma linha por vez\n",
    "        rpcs = linha.split()                   #2. separa cada linha em um array de duas strings: rpc => [rpc1, rpc2] \n",
    "        n_pads = len(rpcs[0])                  # n_pads => numero de pads (iguais nas 2 rpcs) igual ao tamanho de cada string\n",
    "        rpc1 = int(rpcs[0])                    #3. converte as strings em numeros inteiros\n",
    "        rpc2 = int(rpcs[1])\n",
    "        nPads_RPC1.append(int(n_pads - log10(rpc1))) \n",
    "        nPads_RPC2.append(int(n_pads - log10(rpc2)))\n",
    "\n",
    "    return nPads_RPC1, nPads_RPC2\n",
    "\n",
    "getNpads_2()"
   ]
  },
  {
   "cell_type": "markdown",
   "metadata": {},
   "source": [
    "## Determinação das trajetórias\n",
    "\n",
    "Agora que sabemos identificar o número das *pads* onde houve detecção, precisamos entender como fazer a correspondência entre os números das *pads* e as coordenadas espaciais, isto é, as **posições** por onde passaram os múons. Evidentemente, a posição em termos absolutos depende de adotarmos um referencial. No entanto, veremos que a posição absoluta não nos interessa; estaremos mais interessados na **posição relativa** entre as *pads* sensibilizadas das RPC de cima e de baixo para cada evento. De todo modo, isto requer um conhecimento prévio de outras informações, como a numeração e disposição das *pads* ao longo das RPCs e seus tamanhos.\n",
    "\n",
    "As RPCs estão numeradas igualmente de acordo com a seguinte mapa 2D em forma de matriz (vista da RPC por cima):\n",
    "\n",
    "```python \n",
    "disposicao das pads =[\n",
    "    [8, 16, 24, 32, 40, 48, 56, 64], #todos os numeros desta linha sao multiplos de 8\n",
    "    [7, 15, 23, 31, 39, 47, 55, 63], \n",
    "    [6, 14, 22, 30, 38, 46, 54, 62],\n",
    "    [5, 13, 21, 29, 37, 45, 53, 61], \n",
    "    [4, 12, 20, 28, 36, 44, 52, 60],\n",
    "    [3, 11, 19, 27, 35, 43, 51, 59],\n",
    "    [2, 10, 18, 26, 34, 42, 50, 58],\n",
    "    [1,  9, 17, 25, 33, 41, 49, 57]]\n",
    "    numero da pad = (i-1)*8 + j\n",
    "```\n",
    "\n",
    "Por conveniência, admitiremos que as RPCs estão dispostas horizontalmente no plano xy e espaçadas verticalmente no eixo z, com eixo x indo da esquerda pra direita, eixo y de baixo pra cima, e z saindo da tela. Observe que, como as *pads* possuem tamanho fixo, a distância (em um dos eixos x ou y) entre *pads* corresponde sempre a um **múltiplo do tamanho da *pad*** nessa direção; ou seja, se as *pads* possuem 15 cm de tamanho ao longo do eixo x, a distância no eixo x entre os centros das pads 1 e 9 é de 15 cm; entre as pads 1 e 17 é 30 cm, e assim por diante. De maneira análoga, se o tamanho das *pads* no eixo y é de 19 cm, a distância no eixo y entre as *pads* 1 e 2 é de 19 cm; entre as pads 1 e 3 é de 38 cm, e assim por diante. \n",
    "\n",
    "Observe que a distância no eixo x depende então das **colunas** correspondentes às *pads* e a distância no eixo y das **linhas**, de acordo com a disposição 2D apresentada. Podemos então generalizar essa relação através das expressões a seguir, onde convencionamos `Lx=15cm` o tamanho das *pads* no eixo x, `Ly=19cm` o tamanho das *pads* no eixo y, e consideramos a distância entre duas *pads* denotada por $\\delta X$ e $\\delta Y$, nos eixos x e y respectivamente: \n",
    "\n",
    "$$\n",
    "\\delta X = (coluna_{pad_1} - coluna_{pad_2})\\times L_x \\\\\n",
    "\\delta Y = (linha_{pad_1} - linha_{pad_2})\\times L_y\n",
    "$$\n",
    "\n",
    "Precisamos, então, converter o número da *pad* na linha e coluna correspondente do mapa 2D de numeração. Isso pode ser feito de diferentes maneiras, observando que cada coluna abriga oito linhas. Veja, por exemplo, a função getLineAndCol() abaixo.\n"
   ]
  },
  {
   "cell_type": "code",
   "execution_count": null,
   "metadata": {},
   "outputs": [],
   "source": [
    "def getLineAndCol(Npad):\n",
    "    line, col = Npad, 1\n",
    "    while(line > 8):\n",
    "        line = line - 8\n",
    "    while(Npad > 8):\n",
    "        Npad = Npad - 8\n",
    "        col = col + 1\n",
    "\n",
    "    return line, col   "
   ]
  },
  {
   "cell_type": "markdown",
   "metadata": {},
   "source": [
    "Teste rodar a função `getLineAndCol()` com diferentes valores de Npad e compare com o que você esperava ao olhar o mapa de disposição 2D da numeração das *pads*. Os resultados fazem sentido?"
   ]
  },
  {
   "cell_type": "code",
   "execution_count": null,
   "metadata": {},
   "outputs": [],
   "source": [
    "getLineAndCol(64)"
   ]
  },
  {
   "cell_type": "markdown",
   "metadata": {},
   "source": [
    "De posse do número da linha e da coluna correspondentes, podemos então calcular as distâncias nos eixos x e y, `deltaX` e `deltaY`, conforme definimos anteriormente. Com os valores de `deltaX`, de `deltaY` e da distância entre as RPCs, que denotaremos por `H`, poderemos então calcular outras duas informações: os ângulos **azimutal** e **zenital**. Para isto, precisamos considerar a geometria da trajetória, conforme ilustrado na figura a seguir:\n",
    "\n",
    "![coordenadas](coordenadas.png)\n",
    "\n",
    "Podemos definir, portanto, as funções `getDeltaX()`, `getDeltaY()`, `getZen()` e `getAzi()` conforme feito a seguir: "
   ]
  },
  {
   "cell_type": "code",
   "execution_count": null,
   "metadata": {},
   "outputs": [],
   "source": [
    "from math import sqrt, atan, asin, pi\n",
    "\n",
    "Lx = 15 #cm\n",
    "Ly = 19 #cm\n",
    "H = 80 #cm\n",
    "\n",
    "def getDeltaX(col_pad1, col_pad2):\n",
    "    return (col_pad1 - col_pad2)*Lx\n",
    "\n",
    "def getDeltaY(lin_pad1, lin_pad2):\n",
    "    return (lin_pad1 - lin_pad2)*Ly\n",
    "\n",
    "def getZen(deltaX, deltaY):\n",
    "    diag = sqrt(deltaX*deltaX + deltaY*deltaY)\n",
    "    return (180 * atan(diag / H)/pi)\n",
    "\n",
    "def getAzi(deltaX, deltaY):\n",
    "    diag = sqrt(deltaX*deltaX + deltaY*deltaY)\n",
    "    azi = asin(deltaY/diag)\n",
    "    if (deltaX) <= 0.:\n",
    "        azi = pi - azi\n",
    "    if azi < 0 and (deltaX) > 0.:\n",
    "        azi = 2*pi + azi\n",
    "    return 180*azi/pi"
   ]
  },
  {
   "cell_type": "markdown",
   "metadata": {},
   "source": [
    "Podemos então chamar estas funções em conjunto para calcular os ângulos zenital e azimutal, dando como input apenas os índices das *pads* onde houve detecção, como feito na função `calcAngles()` a seguir:"
   ]
  },
  {
   "cell_type": "code",
   "execution_count": null,
   "metadata": {},
   "outputs": [],
   "source": [
    "def calcAngles(Npad1, Npad2):\n",
    "    lin_pad1, col_pad1 = getLineAndCol(Npad1)\n",
    "    lin_pad2, col_pad2 = getLineAndCol(Npad2)\n",
    "\n",
    "    deltaX = getDeltaX(col_pad1, col_pad2)\n",
    "    deltaY = getDeltaY(lin_pad1, lin_pad2)\n",
    "\n",
    "    zen = getZen(deltaX, deltaY)\n",
    "    azi = getAzi(deltaX, deltaY)\n",
    "    \n",
    "    return azi, zen"
   ]
  },
  {
   "cell_type": "markdown",
   "metadata": {},
   "source": [
    "Experimente brincar com os índices das *pads* e rodar a função:"
   ]
  },
  {
   "cell_type": "code",
   "execution_count": null,
   "metadata": {},
   "outputs": [],
   "source": [
    "calcAngles(2, 14)"
   ]
  },
  {
   "cell_type": "markdown",
   "metadata": {},
   "source": [
    "## O output: visualizando nossos resultados\n",
    "\n",
    "Finalmente, podemos juntar tudo que fizemos até aqui para analisar um arquivo de dados real. \n",
    "Precisamos apenas aprender a organizar nossos resultados de modo que possamos visualizá-los, analisá-los e apresentá-los a nossos pares na comunidade acadêmica. Para isso, vamos utilizar as bibliotecas `matplotlib` e `numpy`.\n",
    "\n",
    "Observe o código abaixo:"
   ]
  },
  {
   "cell_type": "code",
   "execution_count": 47,
   "metadata": {},
   "outputs": [],
   "source": [
    "from math import sqrt, atan, asin, log10, pi\n",
    "from matplotlib import pyplot as plt\n",
    "import numpy as np \n",
    "\n",
    "Lx = 15 #cm\n",
    "Ly = 19 #cm\n",
    "H = 80 #cm\n",
    "\n",
    "def getNpads(nome_arquivo='sem_chumbo_test.txt'):\n",
    "    arquivo = open(nome_arquivo, 'r')          #le o arquivo txt\n",
    "    nPads_RPC1, nPads_RPC2 = [], []\n",
    "    for linha in arquivo:                      #1. varre o arquivo de dados, lendo uma linha por vez\n",
    "        rpcs = linha.split()                   #2. separa cada linha em um array de duas strings: rpc => [rpc1, rpc2] \n",
    "        n_pads = len(rpcs[0])                  # n_pads => numero de pads (iguais nas 2 rpcs) igual ao tamanho de cada string\n",
    "        rpc1 = int(rpcs[0])                    #3. converte as strings em numeros inteiros\n",
    "        rpc2 = int(rpcs[1])\n",
    "        nPads_RPC1.append(int(n_pads - log10(rpc1))) \n",
    "        nPads_RPC2.append(int(n_pads - log10(rpc2)))\n",
    "\n",
    "    return nPads_RPC1, nPads_RPC2\n",
    "\n",
    "def getLineAndCol(Npad):\n",
    "    line, col = Npad, 1\n",
    "    while(line > 8):\n",
    "        line = line - 8\n",
    "    while(Npad > 8):\n",
    "        Npad = Npad - 8\n",
    "        col = col + 1\n",
    "\n",
    "    return line, col   \n",
    "\n",
    "def getDeltaX(col_pad1, col_pad2):\n",
    "    return (col_pad1 - col_pad2)*Lx\n",
    "\n",
    "def getDeltaY(lin_pad1, lin_pad2):\n",
    "    return (lin_pad1 - lin_pad2)*Ly\n",
    "\n",
    "def getZen(deltaX, deltaY):\n",
    "    diag = sqrt(deltaX*deltaX + deltaY*deltaY)\n",
    "    return (180 * atan(diag / H)/pi)\n",
    "\n",
    "def getAzi(deltaX, deltaY):\n",
    "    diag = sqrt(deltaX*deltaX + deltaY*deltaY)\n",
    "    if(diag > 0):\n",
    "        azi = asin(deltaY/diag)\n",
    "        if (deltaX) <= 0.:\n",
    "            azi = pi - azi\n",
    "        if azi < 0 and (deltaX) > 0.:\n",
    "            azi = 2*pi + azi\n",
    "        return 180*azi/pi\n",
    "    else:\n",
    "        return 0\n",
    "\n",
    "def calcAngles(Npad1, Npad2):\n",
    "    lin_pad1, col_pad1 = getLineAndCol(Npad1)\n",
    "    lin_pad2, col_pad2 = getLineAndCol(Npad2)\n",
    "\n",
    "    deltaX = getDeltaX(col_pad1, col_pad2)\n",
    "    deltaY = getDeltaY(lin_pad1, lin_pad2)\n",
    "\n",
    "    zen = getZen(deltaX, deltaY)\n",
    "    azi = getAzi(deltaX, deltaY)\n",
    "    \n",
    "    return azi, zen\n",
    "\n"
   ]
  },
  {
   "cell_type": "markdown",
   "metadata": {},
   "source": [
    "Vamos usar as funções definidas para ler e analisar o arquivo de dados `sem_chumbov1.txt`:"
   ]
  },
  {
   "cell_type": "code",
   "execution_count": 48,
   "metadata": {},
   "outputs": [],
   "source": [
    "# from ROOT import TH2D, TCanvas\n",
    "\n",
    "nPads_RPC1, nPads_RPC2 = getNpads('sem_chumbov1.txt')\n",
    "azimutal, zenital = [], []\n",
    "line_RPC1, col_RPC1 = [], []\n",
    "line_RPC2, col_RPC2 = [], []\n",
    "\n",
    "# h2_top = TH2D(\"h2_top\", \"\", 8, 0.5, 8.5, 8, 0.5, 8.5)\n",
    "\n",
    "for i in range(len(nPads_RPC1)):\n",
    "    azi, zen = calcAngles(nPads_RPC1[i], nPads_RPC2[i])\n",
    "    azimutal.append(azi)\n",
    "    zenital.append(zen)\n",
    "    \n",
    "    line1, col1 = getLineAndCol(nPads_RPC1[i])\n",
    "    line2, col2 = getLineAndCol(nPads_RPC2[i])\n",
    "    line_RPC1.append(line1)\n",
    "    line_RPC2.append(line2)\n",
    "    col_RPC1.append(col1)\n",
    "    col_RPC2.append(col2)\n",
    "\n",
    "    # h2_top.Fill(col1, line1)\n",
    "    \n",
    "    \n",
    "Npads_1, Npads_2 = np.array(nPads_RPC1), np.array(nPads_RPC2)\n",
    "Azimute, Zenite = np.array(azimutal), np.array(zenital)"
   ]
  },
  {
   "cell_type": "code",
   "execution_count": 5,
   "metadata": {},
   "outputs": [
    {
     "name": "stdout",
     "output_type": "stream",
     "text": [
      "875994\n"
     ]
    }
   ],
   "source": [
    "print(len(n))"
   ]
  },
  {
   "cell_type": "markdown",
   "metadata": {},
   "source": [
    "Agora, podemos produzir *plots* das distribuições de contagens em função do número da *pad* em cada uma das RPCs de maneira bastante simples:"
   ]
  },
  {
   "cell_type": "code",
   "execution_count": 50,
   "metadata": {},
   "outputs": [
    {
     "data": {
      "image/png": "[encoded data removed]",
      "text/plain": [
       "<Figure size 640x480 with 1 Axes>"
      ]
     },
     "metadata": {},
     "output_type": "display_data"
    }
   ],
   "source": [
    "plt.hist(Npads_2, bins=64)\n",
    "plt.ylabel(\"Número de contagens\")\n",
    "plt.xlabel(\"Número da pad\")\n",
    "plt.title(\"RPC superior\")\n",
    "plt.show()"
   ]
  },
  {
   "cell_type": "markdown",
   "metadata": {},
   "source": [
    "*Obs*: Por quê existe um *bin* vazio no histograma do número de contagens na RPC superior? A que *pad* corresponde? <details><summary>*R*:</summary> Porque há uma *pad* defeituosa na RPC superior, cuja leitura é 0. É a pad 38.</details>"
   ]
  },
  {
   "cell_type": "code",
   "execution_count": null,
   "metadata": {},
   "outputs": [],
   "source": [
    "plt.hist(Npads_2, bins=64)\n",
    "plt.ylabel(\"Número de contagens\")\n",
    "plt.xlabel(\"Número da pad\")\n",
    "plt.title(\"RPC inferior\")\n",
    "plt.show()"
   ]
  },
  {
   "cell_type": "markdown",
   "metadata": {},
   "source": [
    "Podemos ver ainda a distribuição de eventos em 2D ao longo da RPC, como quem vê a RPC de cima. Nesse caso teremos um mapa de cores, indicado no eixo z, com o número de contagens em cada pad. Para os *plots* abaixo, uma cor mais clara indica menos eventos, enquanto uma cor mais vermelha e escura indica mais eventos, de 0 a 20000. "
   ]
  },
  {
   "cell_type": "code",
   "execution_count": 52,
   "metadata": {},
   "outputs": [
    {
     "data": {
      "image/png": "[encoded data removed]",
      "text/plain": [
       "<Figure size 640x480 with 2 Axes>"
      ]
     },
     "metadata": {},
     "output_type": "display_data"
    }
   ],
   "source": [
    "plt.hist2d(col_RPC2, line_RPC2, bins=[8,8], cmap=\"YlOrRd\", vmin=0, vmax=20000)\n",
    "plt.colorbar()\n",
    "plt.ylabel(\"Coluna\")\n",
    "plt.xlabel(\"Linha\")\n",
    "plt.title(\"Mapa de pads 2D (RPC superior)\")\n",
    "plt.show()"
   ]
  },
  {
   "cell_type": "code",
   "execution_count": null,
   "metadata": {},
   "outputs": [],
   "source": [
    "plt.hist2d(col_RPC2, line_RPC2, bins=[8,8], cmap=\"YlOrRd\", vmin=0, vmax=20000)\n",
    "plt.colorbar()\n",
    "plt.ylabel(\"Coluna\")\n",
    "plt.xlabel(\"Linha\")\n",
    "plt.title(\"Mapa de pads 2D (RPC inferior)\")\n",
    "plt.show()"
   ]
  },
  {
   "cell_type": "markdown",
   "metadata": {},
   "source": [
    "Vamos agora ver as distribuições em função dos ângulos azimutal e zenital. O que você espera da aparência dessas distribuições?"
   ]
  },
  {
   "cell_type": "code",
   "execution_count": 53,
   "metadata": {},
   "outputs": [
    {
     "data": {
      "image/png": "[encoded data removed]",
      "text/plain": [
       "<Figure size 640x480 with 1 Axes>"
      ]
     },
     "metadata": {},
     "output_type": "display_data"
    }
   ],
   "source": [
    "plt.hist(Azimute, bins=180, histtype='stepfilled')\n",
    "plt.ylabel(\"Número de contagens\")\n",
    "plt.xlabel(\"Angulo azimutal\")\n",
    "plt.title(\"Distribuicao angular (azimutal)\")\n",
    "plt.show()"
   ]
  },
  {
   "cell_type": "code",
   "execution_count": 54,
   "metadata": {},
   "outputs": [
    {
     "data": {
      "image/png": "[encoded data removed]",
      "text/plain": [
       "<Figure size 640x480 with 1 Axes>"
      ]
     },
     "metadata": {},
     "output_type": "display_data"
    }
   ],
   "source": [
    "plt.hist(Zenite, bins=90)\n",
    "plt.ylabel(\"Número de contagens\")\n",
    "plt.xlabel(\"Angulo zenital\")\n",
    "plt.title(\"Distribuicao angular (zenital)\")\n",
    "plt.show()"
   ]
  },
  {
   "cell_type": "markdown",
   "metadata": {},
   "source": [
    "## Eficiência geométrica\n",
    "Vamos agora usar simulação para determinar a eficiência geométrica das diferentes pads."
   ]
  },
  {
   "cell_type": "code",
   "execution_count": 4,
   "metadata": {},
   "outputs": [],
   "source": [
    "from math import sqrt, atan, asin, log10, pi\n",
    "from matplotlib import pyplot as plt\n",
    "import numpy as np\n",
    "from numpy import pi, tan, cos, sin, random\n",
    "\n",
    "Lx = 15 #cm 50./8\n",
    "Ly = 19 #cm 50./8\n",
    "H = 80 #cm\n",
    "\n",
    "# Lx = 50./8\n",
    "# Ly = 50./8\n",
    "# H = 30 \n",
    "\n",
    "\n",
    "def getLineAndCol(Npad):\n",
    "    line, col = Npad, 1\n",
    "    while(line > 8):\n",
    "        line = line - 8\n",
    "    while(Npad > 8):\n",
    "        Npad = Npad - 8\n",
    "        col = col + 1\n",
    "\n",
    "    return line, col   \n",
    "\n",
    "def sortcos2():\n",
    "    one_theta=0.0\n",
    "    while True:\n",
    "        sample_theta_ = random.rand() * ( pi / 2 )\n",
    "        sample_y_ = random.rand()\n",
    "        cos2theta_ = cos( sample_theta_ ) ** 2\n",
    "        # cos2theta_ = cos( sample_theta_ )\n",
    "        # cos2theta_ = cos( sample_theta_ ) ** 2.5\n",
    "        if sample_y_ < cos2theta_:\n",
    "            one_theta = sample_theta_\n",
    "            break    \n",
    "    return one_theta\n",
    "\n",
    "def sortInRange(min, max):\n",
    "    return np.random.rand()*(max - min)\n",
    "\n",
    "def padCenter(Npad):\n",
    "    line, col = getLineAndCol(Npad)\n",
    "    return (col-0.5)*Lx, (line-0.5)*Ly\n",
    "\n",
    "def deg2rad(angle):\n",
    "    return angle*pi/180.\n",
    "\n",
    "def calcPos(Npad1, zen, azi):\n",
    "    radius  = abs(H*np.tan(deg2rad(zen)))\n",
    "    x2    = padCenter(Npad1)[0] + radius*np.cos(deg2rad(azi))\n",
    "    y2    = padCenter(Npad1)[1] + radius*np.sin(deg2rad(azi))\n",
    "    return x2, y2\n",
    "\n",
    "# def calcPos(x1, y1, zen, azi):\n",
    "#     radius  = abs(H*np.tan(deg2rad(zen)))\n",
    "#     x2    = x1 + radius*np.cos(deg2rad(azi))\n",
    "#     y2    = y1 + radius*np.sin(deg2rad(azi))\n",
    "#     return x2, y2\n",
    "    \n",
    "def IsInsideRPC(x, y):\n",
    "    return ((x > 0. and x <= 8*Lx) and (y > 0. and y <= 8*Ly))\n",
    "\n",
    "def simulation(Nevts, Npad1_list, zen_list, azi_list, Npads=64, uniform=False):\n",
    "    \n",
    "    eff_list = []\n",
    "    for pad in range(1,Npads+1):\n",
    "        Nhits = 0\n",
    "        for ievt in range(0,Nevts):\n",
    "            if(uniform):\n",
    "                zen = sortInRange(0, 90)\n",
    "            else:\n",
    "                zen = sortcos2()*180./pi\n",
    "            azi = sortInRange(0, 360)\n",
    "            x, y = calcPos(pad, zen, azi)\n",
    "            # x, y = calcPos(x1, y1, zen, azi)\n",
    "                \n",
    "            if(IsInsideRPC(x,y)):\n",
    "                Npad1_list.append(pad)\n",
    "                zen_list.append(zen)\n",
    "                azi_list.append(azi)\n",
    "                Nhits = Nhits + 1\n",
    "        eff_list.append(Nhits/Nevts)\n",
    "        \n",
    "    return eff_list"
   ]
  },
  {
   "cell_type": "code",
   "execution_count": 3,
   "metadata": {},
   "outputs": [
    {
     "name": "stdout",
     "output_type": "stream",
     "text": [
      "0.623424\n"
     ]
    }
   ],
   "source": [
    "from math import sqrt, atan, asin, log10, pi\n",
    "from matplotlib import pyplot as plt\n",
    "from numpy import pi, tan, cos, sin, random\n",
    "\n",
    "L = 50. # cm\n",
    "H = 30. \n",
    "\n",
    "def sortInRange(min, max):\n",
    "    return random.rand()*(max - min)\n",
    "\n",
    "def sortcos2():\n",
    "    one_theta=0.0\n",
    "    while True:\n",
    "        sample_theta_ = random.rand() * ( pi / 2 )\n",
    "        sample_y_ = random.rand()\n",
    "        cos2theta_ = cos( sample_theta_ ) ** 2\n",
    "        # cos2theta_ = cos( sample_theta_ )\n",
    "        # cos2theta_ = cos( sample_theta_ ) ** 2.5\n",
    "        if sample_y_ < cos2theta_:\n",
    "            one_theta = sample_theta_\n",
    "            break    \n",
    "    return one_theta\n",
    "\n",
    "def propagate(zen,azi,x_i,y_i,z_i,z_f):\n",
    "    zen_tan=tan(zen)\n",
    "    slopex=cos(azi)*zen_tan \n",
    "    slopey=sin(azi)*zen_tan\n",
    "    x_f=x_i+(z_f-z_i)*slopex \n",
    "    y_f=y_i+(z_f-z_i)*slopey \n",
    "    return x_f,y_f\n",
    "\n",
    "def simulation_cos2(Nevts):   \n",
    "    Nhits = 0\n",
    "    for ievt in range(0,Nevts):\n",
    "        zen = sortcos2()\n",
    "        # zen = sortInRange(0,pi/2.)\n",
    "        azi = sortInRange(0,2*pi)\n",
    "        x_top=sortInRange(0,L)\n",
    "        y_top=sortInRange(0,L)    \n",
    "        x_bottom,y_bottom=propagate(zen,azi,x_top,y_top,0,H)\n",
    "        if(0<=x_bottom<=L and 0<=y_bottom<=L):\n",
    "            Nhits+=1\n",
    "    return Nhits/Nevts\n",
    "\n",
    "print(simulation_cos2(1000000))"
   ]
  },
  {
   "cell_type": "markdown",
   "metadata": {},
   "source": [
    "Vamos usar a função `simulation()` com 100000 eventos para obter uma lista com as eficiências para cada uma das pads:"
   ]
  },
  {
   "cell_type": "code",
   "execution_count": 8,
   "metadata": {},
   "outputs": [
    {
     "name": "stdout",
     "output_type": "stream",
     "text": [
      "Npad1_list: 24637599\n",
      "Ntracks: 64000000\n",
      "Nhits/Ntracks*2pi/3:  0.8062635418801171\n",
      "eff_list:  [0.265769, 0.318398, 0.34296, 0.354596, 0.353891, 0.344144, 0.317755, 0.267129, 0.313565, 0.378536, 0.409418, 0.421926, 0.422369, 0.408693, 0.377505, 0.313651, 0.338524, 0.40832, 0.444066, 0.458679, 0.458167, 0.444466, 0.409343, 0.338438, 0.349227, 0.422807, 0.458724, 0.475697, 0.474725, 0.459028, 0.423612, 0.349263, 0.349212, 0.421343, 0.4584, 0.473884, 0.474436, 0.459053, 0.422865, 0.349129, 0.339051, 0.408136, 0.444203, 0.457833, 0.458283, 0.443833, 0.408003, 0.338843, 0.314514, 0.37773, 0.409044, 0.422026, 0.422217, 0.408817, 0.376965, 0.313537, 0.266584, 0.31749, 0.342873, 0.354684, 0.354561, 0.342642, 0.318044, 0.265973]\n"
     ]
    }
   ],
   "source": [
    "Nevts = 1000000\n",
    "Npad1_list, zen_list, azi_list = [], [], []\n",
    "eff_list = simulation(Nevts, Npad1_list, zen_list, azi_list, 64, True)\n",
    "print('Npad1_list:', len(Npad1_list))\n",
    "print('Ntracks:', 64*Nevts)\n",
    "print('Nhits/Ntracks*2pi/3: ', len(Npad1_list)/(64*Nevts)*2*pi/3.)\n",
    "print('eff_list: ', eff_list)\n",
    "Npads_1 = np.array(Npad1_list)\n",
    "Azimute, Zenite = np.array(azi_list), np.array(zen_list)"
   ]
  },
  {
   "cell_type": "code",
   "execution_count": 9,
   "metadata": {},
   "outputs": [
    {
     "name": "stdout",
     "output_type": "stream",
     "text": [
      "eff_list_cos2:  [0.41844, 0.509721, 0.550567, 0.567692, 0.567369, 0.550475, 0.509418, 0.418527, 0.506993, 0.623659, 0.673921, 0.694216, 0.693328, 0.674318, 0.622815, 0.507422, 0.549276, 0.678485, 0.735948, 0.758219, 0.758553, 0.736159, 0.678655, 0.550289, 0.568673, 0.701581, 0.76246, 0.786403, 0.787167, 0.76234, 0.702504, 0.56822, 0.567356, 0.702293, 0.763191, 0.787212, 0.787029, 0.762879, 0.702879, 0.568374, 0.549782, 0.678368, 0.736424, 0.758396, 0.758519, 0.736313, 0.678439, 0.550031, 0.507194, 0.623432, 0.67418, 0.694391, 0.693469, 0.672836, 0.623005, 0.506707, 0.418602, 0.510355, 0.551344, 0.567625, 0.568096, 0.550535, 0.509202, 0.417992]\n"
     ]
    }
   ],
   "source": [
    "eff_list_cos2 = simulation(Nevts, Npad1_list, zen_list, azi_list, 64, False)\n",
    "print('eff_list_cos2: ', eff_list_cos2)"
   ]
  },
  {
   "cell_type": "code",
   "execution_count": 10,
   "metadata": {},
   "outputs": [
    {
     "name": "stdout",
     "output_type": "stream",
     "text": [
      "ratio:  [1.57444999 1.60089259 1.60533882 1.60095433 1.60323094 1.59954844\n",
      " 1.60317855 1.56675988 1.61686732 1.64755532 1.64604634 1.64535013\n",
      " 1.64152199 1.64993773 1.64981921 1.61779175 1.62256147 1.66165018\n",
      " 1.65729419 1.6530493  1.65562557 1.65627742 1.6579128  1.62596694\n",
      " 1.62837639 1.65934102 1.66213235 1.65315947 1.65815367 1.66077015\n",
      " 1.65836662 1.62691153 1.62467498 1.66679641 1.66490183 1.66119135\n",
      " 1.65887285 1.66185386 1.66218297 1.62797705 1.62153186 1.66211263\n",
      " 1.65785463 1.65649047 1.65513231 1.6589866  1.66282846 1.6232621\n",
      " 1.61262774 1.65046991 1.64818455 1.64537493 1.64244689 1.64581218\n",
      " 1.65268659 1.61609954 1.57024428 1.60746795 1.6080123  1.60036822\n",
      " 1.6022518  1.60673531 1.60104262 1.57155802]\n"
     ]
    }
   ],
   "source": [
    "print('ratio: ', np.array(eff_list_cos2)/np.array(eff_list))"
   ]
  },
  {
   "cell_type": "markdown",
   "metadata": {},
   "source": [
    "Podemos fazer um gráfico da eficiência em função da pad:"
   ]
  },
  {
   "cell_type": "code",
   "execution_count": 12,
   "metadata": {},
   "outputs": [
    {
     "data": {
      "image/png": "[encoded data removed]",
      "text/plain": [
       "<Figure size 640x480 with 1 Axes>"
      ]
     },
     "metadata": {},
     "output_type": "display_data"
    }
   ],
   "source": [
    "plt.plot(eff_list_cos2)\n",
    "plt.ylabel(\"Eficiência\")\n",
    "plt.xlabel(\"Pad\")\n",
    "plt.title(\"RPC superior\")\n",
    "plt.show()"
   ]
  },
  {
   "cell_type": "markdown",
   "metadata": {},
   "source": [
    "Responda: a distribuição da eficiência tem o formato que você esperava? Por quê?"
   ]
  },
  {
   "attachments": {},
   "cell_type": "markdown",
   "metadata": {},
   "source": [
    "### Fluxo de múons\n",
    "\n",
    "Agora que determinamos a eficiência e temos o número de eventos observados, ambos em função das pads da RPC, podemos obter o fluxo de múons em cada pad! O fluxo $F_i$, onde $i$ é um indice referente à pad da RPC ($i=1,...,64$), é dado pela expressão:\n",
    "\n",
    "$$\n",
    "F_i = \\frac{N_{obs}^{i}}{A\\times \\Delta t\\times \\varepsilon_{geom.}^{i}\\times \\varepsilon_{det.}^{i} \\times \\omega(\\theta)}.\n",
    "$$\n",
    "\n",
    "Na expressão acima, para cada pad, $A=L_x \\times L_y$ é a área, $\\Delta t$ o tempo de coleta de dados, $N_{obs}^{i}$ é o número de contagens observada e $\\varepsilon_{geom.}^{i}$ a eficiência geométrica, $\\varepsilon_{det.}^{i}$ a eficiência de detecção, e $\\omega(\\theta)$ um fator angular devido à incidência não isotrópica de múons. "
   ]
  },
  {
   "cell_type": "code",
   "execution_count": 1,
   "metadata": {},
   "outputs": [
    {
     "ename": "ModuleNotFoundError",
     "evalue": "No module named 'ROOT'",
     "output_type": "error",
     "traceback": [
      "\u001b[1;31m---------------------------------------------------------------------------\u001b[0m",
      "\u001b[1;31mModuleNotFoundError\u001b[0m                       Traceback (most recent call last)",
      "Cell \u001b[1;32mIn[1], line 1\u001b[0m\n\u001b[1;32m----> 1\u001b[0m \u001b[39mfrom\u001b[39;00m \u001b[39mROOT\u001b[39;00m \u001b[39mimport\u001b[39;00m TH1D, TH2D, TColor, gStyle\n\u001b[0;32m      3\u001b[0m hFlux_Top \u001b[39m=\u001b[39m TH1D(\u001b[39m\"\u001b[39m\u001b[39mhFlux_Top\u001b[39m\u001b[39m\"\u001b[39m, \u001b[39m\"\u001b[39m\u001b[39mFluxo por pad;Pad; Contagens / m^2\u001b[39m\u001b[39m\"\u001b[39m, \u001b[39m64\u001b[39m, \u001b[39m0.5\u001b[39m, \u001b[39m64.5\u001b[39m)\n\u001b[0;32m      4\u001b[0m hNcor_Top_2D \u001b[39m=\u001b[39m TH2D(\u001b[39m\"\u001b[39m\u001b[39mhNcor_Top_2D\u001b[39m\u001b[39m\"\u001b[39m, \u001b[39m\"\u001b[39m\u001b[39mFluxo por pad; Pad; Pad\u001b[39m\u001b[39m\"\u001b[39m, \u001b[39m8\u001b[39m, \u001b[39m0.5\u001b[39m, \u001b[39m8.5\u001b[39m, \u001b[39m8\u001b[39m, \u001b[39m0.5\u001b[39m, \u001b[39m8.5\u001b[39m)\n",
      "\u001b[1;31mModuleNotFoundError\u001b[0m: No module named 'ROOT'"
     ]
    }
   ],
   "source": [
    "from ROOT import TH1D, TH2D, TColor, gStyle\n",
    "\n",
    "hFlux_Top = TH1D(\"hFlux_Top\", \"Fluxo por pad;Pad; Contagens / m^2\", 64, 0.5, 64.5)\n",
    "hNcor_Top_2D = TH2D(\"hNcor_Top_2D\", \"Fluxo por pad; Pad; Pad\", 8, 0.5, 8.5, 8, 0.5, 8.5)\n",
    "hFlux_Top_2D = TH2D(\"hFlux_Top_2D\", \"Fluxo por pad; Pad; Pad\", 8, 0.5, 8.5, 8, 0.5, 8.5)\n",
    "overArea = 100*100./(Lx*Ly) #multiplicado por 100*100 para passar de cm^-2 para m^-2\n",
    "overDeltaT = 1./28482 #tempo de coleta\n",
    "eff_det = 0.80\n",
    "# ang_factor = 2*pi/3. #cosTheta\n",
    "ang_factor = 5./3 #cos2theta\n",
    "for i in nPads_RPC1:\n",
    "    hFlux_Top.Fill(i, 1./eff_list[i-1]*overArea*overDeltaT)\n",
    "    line, col = getLineAndCol(i)\n",
    "    hNcor_Top_2D.Fill(col, line, 1./eff_list[i-1])\n",
    "    hFlux_Top_2D.Fill(col, line, 1./(eff_list[i-1]*eff_det)*overArea*overDeltaT)"
   ]
  },
  {
   "cell_type": "markdown",
   "metadata": {},
   "source": [
    "Com isso, podemos agora \"plotar\" os resultados:"
   ]
  },
  {
   "cell_type": "code",
   "execution_count": null,
   "metadata": {},
   "outputs": [],
   "source": [
    "c1 = TCanvas(\"c1\", \"\", 600, 600)\n",
    "hFlux_Top.SetStats(0)\n",
    "hFlux_Top.Draw(\"EP\")\n",
    "c1.Draw()"
   ]
  },
  {
   "cell_type": "code",
   "execution_count": null,
   "metadata": {},
   "outputs": [],
   "source": [
    "gStyle.SetPadRightMargin(0.20)\n",
    "gStyle.SetPalette(75)\n",
    "TColor.InvertPalette()\n",
    "c2 = TCanvas(\"c2\", \"\", 600, 600)\n",
    "hNcor_Top_2D.SetStats(0)\n",
    "hNcor_Top_2D.Draw(\"COLZ\")\n",
    "c2.Draw()"
   ]
  },
  {
   "cell_type": "code",
   "execution_count": null,
   "metadata": {},
   "outputs": [],
   "source": [
    "c3 = TCanvas(\"c3\", \"\", 600, 600)\n",
    "hFlux_Top_2D.SetStats(0)\n",
    "hFlux_Top_2D.Draw(\"COLZ\")\n",
    "c3.Draw()"
   ]
  },
  {
   "cell_type": "markdown",
   "metadata": {},
   "source": [
    "Observe como o padrão em 2D é bem mais uniforme após a correção pela eficiência!"
   ]
  },
  {
   "cell_type": "code",
   "execution_count": null,
   "metadata": {},
   "outputs": [],
   "source": []
  },
  {
   "cell_type": "code",
   "execution_count": null,
   "metadata": {},
   "outputs": [],
   "source": []
  }
 ],
 "metadata": {
  "authors": [
   {
    "name": "Felipe L. S. de Almeida"
   },
   {
    "name": "Alberto C. dos Reis"
   }
  ],
  "kernelspec": {
   "display_name": "Python 3",
   "language": "python",
   "name": "python3"
  },
  "language_info": {
   "codemirror_mode": {
    "name": "ipython",
    "version": 3
   },
   "file_extension": ".py",
   "mimetype": "text/x-python",
   "name": "python",
   "nbconvert_exporter": "python",
   "pygments_lexer": "ipython3",
   "version": "3.9.13"
  },
  "title": "EAFExp - Análise",
  "vscode": {
   "interpreter": {
    "hash": "76813a6824125cf41d3d63816927c078642110ebe65916c0d466e8f06d2b039d"
   }
  }
 },
 "nbformat": 4,
 "nbformat_minor": 2
}
