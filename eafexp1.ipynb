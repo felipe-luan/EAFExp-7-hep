{
 "cells": [
  {
   "cell_type": "markdown",
   "metadata": {},
   "source": [
    "# EAFExp - Análise: distribuição angular de múons  \n",
    "\n",
    "Vamos utilizar os dados coletados por nosso setup experimental para analisar o fluxo e a distribuição angular de múons que chegam à superfície da Terra no Rio de Janeiro. O *setup* experimental que utilizamos para coletar dados é formado por um par de *Resistive Plate Chambers* (RPCs) separadas verticalmente por uma distância fixa de 180 cm. Cada RPC possui 64 *pads* independentes de leitura, com dimensões 19cm x 15cm.\n",
    "\n",
    "<img src=\"esquema.png\" width=\"400\" height=\"200\"/>\n",
    "\n",
    "\n",
    "Os dados coletados por nosso *setup* experimental consistem em arquivos de texto contendo duas \"palavras\" (*string*s) de 64-*bits*: um conjunto de 128 dígitos. Os 64 primeiros dígitos correspondem às *pads* da RPC de cima, enquanto os 64 últimos digitos correspondem às *pads* da RPC de baixo. Cada linha do arquivo corresponde a um evento de detecção em coincidência, isto é, corresponde à leitura de um sinal elétrico em pelo menos uma pad de cada RPC simultaneamente. Para as RPCs onde houve detecção de algum sinal elétrico, o dígito registrado será 1; para as demais, será 0. Por exemplo, para a linha: 00100000... 000000...001, podemos dizer que o evento ocorreu nas pads 3 (da RPC superior) e 64 (da RPC inferior).\n",
    "\n",
    "Nossa primeira tarefa é, então, ler os arquivos de texto que contém essas informações e identificar, para cada evento, o número da *pad* sensibilizada em cada uma das RPCs. Podemos fazer isso de diferentes maneiras, que serão indicadas a seguir. Posteriormente, precisaremos aprender a extrair informações sobre a **trajetória** dos múons a partir do número das *pads* sensibilizadas e das dimensões do nosso detector."
   ]
  },
  {
   "cell_type": "markdown",
   "metadata": {},
   "source": []
  },
  {
   "cell_type": "markdown",
   "metadata": {},
   "source": [
    "## Inspecionando um arquivo de dados\n",
    "\n",
    "Antes de escrevermos um código para extrair o número das *pads* onde houve detecção para cada evento coletado, vamos primeiro inspecionar um arquivo de dados: `sem_chumbo_test.txt`. Este arquivo contém apenas poucos eventos, e vamos utilizá-lo apenas numa primeira etapa para entender os algoritmos a seguir. Abra o arquivo `sem_chumbo_test.txt` e responda, fazendo apenas uma inspeção visual:\n",
    "\n",
    "1. Quantos eventos estão registrados nesse arquivo? <details><summary>*R*:</summary> Cada linha representa um evento, logo há 3 eventos nesse arquivo.</details>\n",
    "\n",
    "2. Quais as *pads* em que houve detecção em cada RPC, para cada evento? <details><summary>*R*:</summary>RPC de cima: pads 1, 6, 13; RPC de baixo: 64, 61, 3. </details>\n"
   ]
  },
  {
   "cell_type": "markdown",
   "metadata": {},
   "source": [
    "## Leitura dos arquivos de dados - método 1\n",
    "\n",
    "A ideia é simples, embora não muito eficiente: \n",
    "1. varrer os arquivos de dados, lendo uma linha por vez;\n",
    "2. salvar cada coluna de cada linha em uma string;\n",
    "3. percorrer as strings, verificando se cada elemento é igual a 1: se sim, guarda a posição do elemento\n",
    "Assim, poderemos identificar as pads em cada RPC onde houve um hit.\n",
    "Veja a função abaixo, getNpads_1(), que implementa este tipo de algoritmo para retornar listas contendo os números das pads onde houve detecção.\n",
    "\n",
    "*Obs*: você entende por quê fazemos `append(i+1)` e não `append(i)` para inserir a posição da RPC na lista? <details><summary>*R*:</summary> Porque as listas são indexadas a partir do 0, portanto a varredura vai de 0 a 63 correspondendo aos elementos entre 1 e 64 das strings.</details> "
   ]
  },
  {
   "cell_type": "code",
   "execution_count": null,
   "metadata": {},
   "outputs": [],
   "source": [
    "def getNpads_1(nome_arquivo='sem_chumbo_test.txt'):\n",
    "    arquivo = open(nome_arquivo, 'r')          #le o arquivo txt\n",
    "    nPads_RPC1, nPads_RPC2 = [], []\n",
    "    for linha in arquivo:                      #1. varre o arquivo de dados, lendo uma linha por vez\n",
    "        rpcs = linha.split()                   #2. separa cada linha em um array de duas strings: rpc => [rpc1, rpc2] \n",
    "        n_pads = len(rpcs[0])                  # n_pads => numero de pads (iguais nas 2 rpcs) igual ao tamanho de cada string\n",
    "        rpc1 = rpcs[0]\n",
    "        rpc2 = rpcs[1]\n",
    "        for i in range(n_pads):                #3. percorre as strings verificando se cada elemento é igual a 1\n",
    "            if rpc1[i] == \"1\":                 # se o elemento é igual a 1, guarda a posição do elemento na lista correspondente\n",
    "                nPads_RPC1.append(i+1)\n",
    "            if rpc2[i] == \"1\":\n",
    "                nPads_RPC2.append(i+1)\n",
    "\n",
    "    return nPads_RPC1, nPads_RPC2\n",
    "\n",
    "getNpads_1()"
   ]
  },
  {
   "cell_type": "markdown",
   "metadata": {},
   "source": [
    "## Leitura do arquivo de dados - método 2\n",
    "\n",
    "Uma forma mais eficiente de identificar as *pads* onde houve coincidência é utilizando... **logaritmos**!\n",
    "Basta observar que, para um evento onde a detecção ocorreu na *pad* 1 para a primeira RPC, por exemplo, a primeira coluna é composta pelo dígito 1 seguido de 63 dígitos 0. Como um número, isso representa 10^(63). Note que o logaritmo na base 10 de uma potência de 10 nos dirá exatamente quantos dígitos 0 temos **depois** do dígito 1. Logo, podemos calcular então a *pad* correspondente fazendo simplesmente 64 - log(10^63) = 1. \n",
    "\n",
    "Desse modo, podemos identificar as *pads* sem precisar fazer muitas comparações. Simples, não?! Veja a implementação em código na função getNpads_2() a seguir:"
   ]
  },
  {
   "cell_type": "code",
   "execution_count": null,
   "metadata": {},
   "outputs": [],
   "source": [
    "from math import log10\n",
    "\n",
    "def getNpads_2(nome_arquivo='sem_chumbo_test.txt'):\n",
    "    arquivo = open(nome_arquivo, 'r')          #le o arquivo txt\n",
    "    nPads_RPC1, nPads_RPC2 = [], []\n",
    "    for linha in arquivo:                      #1. varre o arquivo de dados, lendo uma linha por vez\n",
    "        rpcs = linha.split()                   #2. separa cada linha em um array de duas strings: rpc => [rpc1, rpc2] \n",
    "        n_pads = len(rpcs[0])                  # n_pads => numero de pads (iguais nas 2 rpcs) igual ao tamanho de cada string\n",
    "        rpc1 = int(rpcs[0])                    #3. converte as strings em numeros inteiros\n",
    "        rpc2 = int(rpcs[1])\n",
    "        nPads_RPC1.append(int(n_pads - log10(rpc1))) \n",
    "        nPads_RPC2.append(int(n_pads - log10(rpc2)))\n",
    "\n",
    "    return nPads_RPC1, nPads_RPC2\n",
    "\n",
    "getNpads_2()"
   ]
  },
  {
   "cell_type": "markdown",
   "metadata": {},
   "source": [
    "## Determinação das trajetórias\n",
    "\n",
    "Agora que sabemos identificar o número das *pads* onde houve detecção, precisamos entender como fazer a correspondência entre os números das *pads* e as coordenadas espaciais, isto é, as **posições** por onde passaram os múons. Evidentemente, a posição em termos absolutos depende de adotarmos um referencial. No entanto, veremos que a posição absoluta não nos interessa; estaremos mais interessados na **posição relativa** entre as *pads* sensibilizadas das RPC de cima e de baixo para cada evento. De todo modo, isto requer um conhecimento prévio de outras informações, como a numeração e disposição das *pads* ao longo das RPCs e seus tamanhos.\n",
    "\n",
    "As RPCs estão numeradas igualmente de acordo com a seguinte mapa 2D em forma de matriz (vista da RPC por cima):\n",
    "\n",
    "```python \n",
    "disposicao das pads =[\n",
    "    [8, 16, 24, 32, 40, 48, 56, 64], #todos os numeros desta linha sao multiplos de 8\n",
    "    [7, 15, 23, 31, 39, 47, 55, 63], \n",
    "    [6, 14, 22, 30, 38, 46, 54, 62],\n",
    "    [5, 13, 21, 29, 37, 45, 53, 61], \n",
    "    [4, 12, 20, 28, 36, 44, 52, 60],\n",
    "    [3, 11, 19, 27, 35, 43, 51, 59],\n",
    "    [2, 10, 18, 26, 34, 42, 50, 58],\n",
    "    [1,  9, 17, 25, 33, 41, 49, 57]]\n",
    "    numero da pad = i*8 + j\n",
    "```\n",
    "\n",
    "Por conveniência, admitiremos que as RPCs estão dispostas horizontalmente no plano xy e espaçadas verticalmente no eixo z, com eixo x indo da esquerda pra direita, eixo y de baixo pra cima, e z saindo da tela. Observe que, como as *pads* possuem tamanho fixo, a distância (em um dos eixos x ou y) entre *pads* corresponde sempre a um **múltiplo do tamanho da *pad*** nessa direção; ou seja, se as *pads* possuem 15 cm de tamanho ao longo do eixo x, a distância no eixo x entre os centros das pads 1 e 9 é de 15 cm; entre as pads 1 e 17 é 30 cm, e assim por diante. De maneira análoga, se o tamanho das *pads* no eixo y é de 19 cm, a distância no eixo y entre as *pads* 1 e 2 é de 19 cm; entre as pads 1 e 3 é de 38 cm, e assim por diante. \n",
    "\n",
    "Observe que a distância no eixo x depende então das **colunas** correspondentes às *pads* e a distância no eixo y das **linhas**, de acordo com a disposição 2D apresentada. Podemos então generalizar essa relação através das expressões a seguir, onde convencionamos `Lx=15cm` o tamanho das *pads* no eixo x, `Ly=19cm` o tamanho das *pads* no eixo y, e consideramos a distância entre duas *pads* denotada por $\\delta X$ e $\\delta Y$, nos eixos x e y respectivamente: \n",
    "\n",
    "$$\n",
    "\\delta X = (coluna_{pad_1} - coluna_{pad_2})\\times L_x \\\\\n",
    "\\delta Y = (linha_{pad_1} - linha_{pad_2})\\times L_y\n",
    "$$\n",
    "\n",
    "Precisamos, então, converter o número da *pad* na linha e coluna correspondente do mapa 2D de numeração. Isso pode ser feito de diferentes maneiras, observando que cada coluna abriga oito linhas. Veja, por exemplo, a função getLineAndCol() abaixo.\n"
   ]
  },
  {
   "cell_type": "code",
   "execution_count": null,
   "metadata": {},
   "outputs": [],
   "source": [
    "def getLineAndCol(Npad):\n",
    "    line, col = Npad, 1\n",
    "    while(line > 8):\n",
    "        line = line - 8\n",
    "    while(Npad > 8):\n",
    "        Npad = Npad - 8\n",
    "        col = col + 1\n",
    "\n",
    "    return line, col   "
   ]
  },
  {
   "cell_type": "markdown",
   "metadata": {},
   "source": [
    "Teste rodar a função `getLineAndCol()` com diferentes valores de Npad e compare com o que você esperava ao olhar o mapa de disposição 2D da numeração das *pads*. Os resultados fazem sentido?"
   ]
  },
  {
   "cell_type": "code",
   "execution_count": null,
   "metadata": {},
   "outputs": [],
   "source": [
    "getLineAndCol(64)"
   ]
  },
  {
   "cell_type": "markdown",
   "metadata": {},
   "source": [
    "De posse do número da linha e da coluna correspondentes, podemos então calcular as distâncias nos eixos x e y, `deltaX` e `deltaY`, conforme definimos anteriormente. Com os valores de `deltaX`, de `deltaY` e da distância entre as RPCs, que denotaremos por `H`, poderemos então calcular outras duas informações: os ângulos **azimutal** e **zenital**. Para isto, precisamos considerar a geometria da trajetória, conforme ilustrado na figura a seguir:\n",
    "\n",
    "![coordenadas](coordenadas.png)\n",
    "\n",
    "Podemos definir, portanto, as funções `getDeltaX()`, `getDeltaY()`, `getZen()` e `getAzi()` conforme feito a seguir: "
   ]
  },
  {
   "cell_type": "code",
   "execution_count": null,
   "metadata": {},
   "outputs": [],
   "source": [
    "from math import sqrt, atan, asin, pi\n",
    "\n",
    "Lx = 15 #cm\n",
    "Ly = 19 #cm\n",
    "H = 80 #cm\n",
    "\n",
    "def getDeltaX(col_pad1, col_pad2):\n",
    "    return (col_pad1 - col_pad2)*Lx\n",
    "\n",
    "def getDeltaY(lin_pad1, lin_pad2):\n",
    "    return (lin_pad1 - lin_pad2)*Ly\n",
    "\n",
    "def getZen(deltaX, deltaY):\n",
    "    diag = sqrt(deltaX*deltaX + deltaY*deltaY)\n",
    "    return (180 * atan(diag / H)/pi)\n",
    "\n",
    "def getAzi(deltaX, deltaY):\n",
    "    diag = sqrt(deltaX*deltaX + deltaY*deltaY)\n",
    "    azi = asin(deltaY/diag)\n",
    "    if (deltaX) <= 0.:\n",
    "        azi = pi - azi\n",
    "    if azi < 0 and (deltaX) > 0.:\n",
    "        azi = 2*pi + azi\n",
    "    return 180*azi/pi"
   ]
  },
  {
   "cell_type": "markdown",
   "metadata": {},
   "source": [
    "Podemos então chamar estas funções em conjunto para calcular os ângulos zenital e azimutal, dando como input apenas os índices das *pads* onde houve detecção, como feito na função `calcAngles()` a seguir:"
   ]
  },
  {
   "cell_type": "code",
   "execution_count": null,
   "metadata": {},
   "outputs": [],
   "source": [
    "def calcAngles(Npad1, Npad2):\n",
    "    lin_pad1, col_pad1 = getLineAndCol(Npad1)\n",
    "    lin_pad2, col_pad2 = getLineAndCol(Npad2)\n",
    "\n",
    "    deltaX = getDeltaX(col_pad1, col_pad2)\n",
    "    deltaY = getDeltaY(lin_pad1, lin_pad2)\n",
    "\n",
    "    zen = getZen(deltaX, deltaY)\n",
    "    azi = getAzi(deltaX, deltaY)\n",
    "    \n",
    "    return azi, zen"
   ]
  },
  {
   "cell_type": "markdown",
   "metadata": {},
   "source": [
    "Experimente brincar com os índices das *pads* e rodar a função:"
   ]
  },
  {
   "cell_type": "code",
   "execution_count": null,
   "metadata": {},
   "outputs": [],
   "source": [
    "calcAngles(2, 14)"
   ]
  },
  {
   "cell_type": "markdown",
   "metadata": {},
   "source": [
    "## O output: visualizando nossos resultados\n",
    "\n",
    "Finalmente, podemos juntar tudo que fizemos até aqui para analisar um arquivo de dados real. \n",
    "Precisamos apenas aprender a organizar nossos resultados de modo que possamos visualizá-los, analisá-los e apresentá-los a nossos pares na comunidade acadêmica. Para isso, vamos utilizar as bibliotecas `matplotlib` e `numpy`.\n",
    "\n",
    "Observe o código abaixo:"
   ]
  },
  {
   "cell_type": "code",
   "execution_count": 2,
   "metadata": {},
   "outputs": [],
   "source": [
    "from math import sqrt, atan, asin, log10, pi\n",
    "from matplotlib import pyplot as plt\n",
    "import numpy as np \n",
    "\n",
    "Lx = 15 #cm\n",
    "Ly = 19 #cm\n",
    "H = 80 #cm\n",
    "\n",
    "def getNpads(nome_arquivo='sem_chumbo_test.txt'):\n",
    "    arquivo = open(nome_arquivo, 'r')          #le o arquivo txt\n",
    "    nPads_RPC1, nPads_RPC2 = [], []\n",
    "    for linha in arquivo:                      #1. varre o arquivo de dados, lendo uma linha por vez\n",
    "        rpcs = linha.split()                   #2. separa cada linha em um array de duas strings: rpc => [rpc1, rpc2] \n",
    "        n_pads = len(rpcs[0])                  # n_pads => numero de pads (iguais nas 2 rpcs) igual ao tamanho de cada string\n",
    "        rpc1 = int(rpcs[0])                    #3. converte as strings em numeros inteiros\n",
    "        rpc2 = int(rpcs[1])\n",
    "        nPads_RPC1.append(int(n_pads - log10(rpc1))) \n",
    "        nPads_RPC2.append(int(n_pads - log10(rpc2)))\n",
    "\n",
    "    return nPads_RPC1, nPads_RPC2\n",
    "\n",
    "def getLineAndCol(Npad):\n",
    "    line, col = Npad, 1\n",
    "    while(line > 8):\n",
    "        line = line - 8\n",
    "    while(Npad > 8):\n",
    "        Npad = Npad - 8\n",
    "        col = col + 1\n",
    "\n",
    "    return line, col   \n",
    "\n",
    "def getDeltaX(col_pad1, col_pad2):\n",
    "    return (col_pad1 - col_pad2)*Lx\n",
    "\n",
    "def getDeltaY(lin_pad1, lin_pad2):\n",
    "    return (lin_pad1 - lin_pad2)*Ly\n",
    "\n",
    "def getZen(deltaX, deltaY):\n",
    "    diag = sqrt(deltaX*deltaX + deltaY*deltaY)\n",
    "    return (180 * atan(diag / H)/pi)\n",
    "\n",
    "def getAzi(deltaX, deltaY):\n",
    "    diag = sqrt(deltaX*deltaX + deltaY*deltaY)\n",
    "    if(diag > 0):\n",
    "        azi = asin(deltaY/diag)\n",
    "        if (deltaX) <= 0.:\n",
    "            azi = pi - azi\n",
    "        if azi < 0 and (deltaX) > 0.:\n",
    "            azi = 2*pi + azi\n",
    "        return 180*azi/pi\n",
    "    else:\n",
    "        return 0\n",
    "\n",
    "def calcAngles(Npad1, Npad2):\n",
    "    lin_pad1, col_pad1 = getLineAndCol(Npad1)\n",
    "    lin_pad2, col_pad2 = getLineAndCol(Npad2)\n",
    "\n",
    "    deltaX = getDeltaX(col_pad1, col_pad2)\n",
    "    deltaY = getDeltaY(lin_pad1, lin_pad2)\n",
    "\n",
    "    zen = getZen(deltaX, deltaY)\n",
    "    azi = getAzi(deltaX, deltaY)\n",
    "    \n",
    "    return azi, zen\n",
    "\n"
   ]
  },
  {
   "cell_type": "markdown",
   "metadata": {},
   "source": [
    "Vamos usar as funções definidas para ler e analisar o arquivo de dados `sem_chumbov1.txt`:"
   ]
  },
  {
   "cell_type": "code",
   "execution_count": 3,
   "metadata": {},
   "outputs": [],
   "source": [
    "# from ROOT import TH2D, TCanvas\n",
    "\n",
    "nPads_RPC1, nPads_RPC2 = getNpads('sem_chumbov1.txt')\n",
    "azimutal, zenital = [], []\n",
    "line_RPC1, col_RPC1 = [], []\n",
    "line_RPC2, col_RPC2 = [], []\n",
    "\n",
    "# h2_top = TH2D(\"h2_top\", \"\", 8, 0.5, 8.5, 8, 0.5, 8.5)\n",
    "\n",
    "for i in range(len(nPads_RPC1)):\n",
    "    azi, zen = calcAngles(nPads_RPC1[i], nPads_RPC2[i])\n",
    "    azimutal.append(azi)\n",
    "    zenital.append(zen)\n",
    "    \n",
    "    line1, col1 = getLineAndCol(nPads_RPC1[i])\n",
    "    line2, col2 = getLineAndCol(nPads_RPC2[i])\n",
    "    line_RPC1.append(line1)\n",
    "    line_RPC2.append(line2)\n",
    "    col_RPC1.append(col1)\n",
    "    col_RPC2.append(col2)\n",
    "\n",
    "    # h2_top.Fill(col1, line1)\n",
    "    \n",
    "    \n",
    "Npads_1, Npads_2 = np.array(nPads_RPC1), np.array(nPads_RPC2)\n",
    "Azimute, Zenite = np.array(azimutal), np.array(zenital)"
   ]
  },
  {
   "cell_type": "code",
   "execution_count": 5,
   "metadata": {},
   "outputs": [
    {
     "name": "stdout",
     "output_type": "stream",
     "text": [
      "875994\n"
     ]
    }
   ],
   "source": [
    "print(len(n))"
   ]
  },
  {
   "cell_type": "markdown",
   "metadata": {},
   "source": [
    "Agora, podemos produzir *plots* das distribuições de contagens em função do número da *pad* em cada uma das RPCs de maneira bastante simples:"
   ]
  },
  {
   "cell_type": "code",
   "execution_count": 4,
   "metadata": {},
   "outputs": [
    {
     "data": {
      "image/png": "[encoded data removed]",
      "text/plain": [
       "<Figure size 640x480 with 1 Axes>"
      ]
     },
     "metadata": {},
     "output_type": "display_data"
    }
   ],
   "source": [
    "plt.hist(Npads_1, bins=64)\n",
    "plt.ylabel(\"Número de contagens\")\n",
    "plt.xlabel(\"Número da pad\")\n",
    "plt.title(\"RPC superior\")\n",
    "plt.show()"
   ]
  },
  {
   "cell_type": "markdown",
   "metadata": {},
   "source": [
    "*Obs*: Por quê existe um *bin* vazio no histograma do número de contagens na RPC superior? A que *pad* corresponde? <details><summary>*R*:</summary> Porque há uma *pad* defeituosa na RPC superior, cuja leitura é 0. É a pad 38.</details>"
   ]
  },
  {
   "cell_type": "code",
   "execution_count": null,
   "metadata": {},
   "outputs": [],
   "source": [
    "plt.hist(Npads_2, bins=64)\n",
    "plt.ylabel(\"Número de contagens\")\n",
    "plt.xlabel(\"Número da pad\")\n",
    "plt.title(\"RPC inferior\")\n",
    "plt.show()"
   ]
  },
  {
   "cell_type": "markdown",
   "metadata": {},
   "source": [
    "Podemos ver ainda a distribuição de eventos em 2D ao longo da RPC, como quem vê a RPC de cima. Nesse caso teremos um mapa de cores, indicado no eixo z, com o número de contagens em cada pad. Para os *plots* abaixo, uma cor mais clara indica menos eventos, enquanto uma cor mais vermelha e escura indica mais eventos, de 0 a 20000. "
   ]
  },
  {
   "cell_type": "code",
   "execution_count": null,
   "metadata": {},
   "outputs": [],
   "source": [
    "plt.hist2d(col_RPC1, line_RPC1, bins=[8,8], cmap=\"YlOrRd\", vmin=0, vmax=20000)\n",
    "plt.colorbar()\n",
    "plt.ylabel(\"Coluna\")\n",
    "plt.xlabel(\"Linha\")\n",
    "plt.title(\"Mapa de pads 2D (RPC superior)\")\n",
    "plt.show()"
   ]
  },
  {
   "cell_type": "code",
   "execution_count": null,
   "metadata": {},
   "outputs": [],
   "source": [
    "plt.hist2d(col_RPC2, line_RPC2, bins=[8,8], cmap=\"YlOrRd\", vmin=0, vmax=20000)\n",
    "plt.colorbar()\n",
    "plt.ylabel(\"Coluna\")\n",
    "plt.xlabel(\"Linha\")\n",
    "plt.title(\"Mapa de pads 2D (RPC inferior)\")\n",
    "plt.show()"
   ]
  },
  {
   "cell_type": "markdown",
   "metadata": {},
   "source": [
    "Vamos agora ver as distribuições em função dos ângulos azimutal e zenital. O que você espera da aparência dessas distribuições?"
   ]
  },
  {
   "cell_type": "code",
   "execution_count": null,
   "metadata": {},
   "outputs": [],
   "source": [
    "plt.hist(Azimute, bins=180, histtype='stepfilled')\n",
    "plt.ylabel(\"Número de contagens\")\n",
    "plt.xlabel(\"Angulo azimutal\")\n",
    "plt.title(\"Distribuicao angular (azimutal)\")\n",
    "plt.show()"
   ]
  },
  {
   "cell_type": "code",
   "execution_count": null,
   "metadata": {},
   "outputs": [],
   "source": [
    "plt.hist(Zenite, bins=90)\n",
    "plt.ylabel(\"Número de contagens\")\n",
    "plt.xlabel(\"Angulo zenital\")\n",
    "plt.title(\"Distribuicao angular (zenital)\")\n",
    "plt.show()"
   ]
  },
  {
   "cell_type": "markdown",
   "metadata": {},
   "source": [
    "## Eficiência geométrica\n",
    "Vamos agora usar simulação para determinar a eficiência geométrica das diferentes pads."
   ]
  },
  {
   "cell_type": "code",
   "execution_count": null,
   "metadata": {},
   "outputs": [],
   "source": [
    "from math import sqrt, atan, asin, log10, pi\n",
    "from matplotlib import pyplot as plt\n",
    "import numpy as np\n",
    "\n",
    "Lx = 15 #cm\n",
    "Ly = 19 #cm\n",
    "H = 80 #cm\n",
    "\n",
    "def getLineAndCol(Npad):\n",
    "    line, col = Npad, 1\n",
    "    while(line > 8):\n",
    "        line = line - 8\n",
    "    while(Npad > 8):\n",
    "        Npad = Npad - 8\n",
    "        col = col + 1\n",
    "\n",
    "    return line, col   \n",
    "\n",
    "def sortInRange(min, max):\n",
    "    return np.random.rand()*(max - min)\n",
    "\n",
    "def padCenter(Npad):\n",
    "    line, col = getLineAndCol(Npad)\n",
    "    return (col-0.5)*Lx, (line-0.5)*Ly\n",
    "\n",
    "def deg2rad(angle):\n",
    "    return angle*pi/180.\n",
    "\n",
    "def calcPos(Npad1, zen, azi):\n",
    "    radius  = abs(H*np.tan(deg2rad(zen)))\n",
    "    x2    = padCenter(Npad1)[0] + radius*np.cos(deg2rad(azi))\n",
    "    y2    = padCenter(Npad1)[1] + radius*np.sin(deg2rad(azi))\n",
    "    return x2, y2\n",
    "    \n",
    "def IsInsideRPC(x, y):\n",
    "    return ((x > 0. and x <= 8*Lx) and (y > 0. and y <= 8*Ly))\n",
    "\n",
    "def simulation(Nevts, Npad1_list, zen_list, azi_list):\n",
    "    \n",
    "    eff_list = []\n",
    "    for pad in range(1,65):\n",
    "        Nhits = 0\n",
    "        for ievt in range(0,Nevts):\n",
    "            zen = sortInRange(0, 90)\n",
    "            azi = sortInRange(0, 360)\n",
    "            x, y = calcPos(pad, zen, azi)\n",
    "                \n",
    "            if(IsInsideRPC(x,y)):\n",
    "                Npad1_list.append(pad)\n",
    "                zen_list.append(zen)\n",
    "                azi_list.append(azi)\n",
    "                Nhits = Nhits + 1\n",
    "        eff_list.append(Nhits/Nevts)\n",
    "        \n",
    "    return eff_list"
   ]
  },
  {
   "cell_type": "markdown",
   "metadata": {},
   "source": [
    "Vamos usar a função `simulation()` com 100000 eventos para obter uma lista com as eficiências para cada uma das pads:"
   ]
  },
  {
   "cell_type": "code",
   "execution_count": null,
   "metadata": {},
   "outputs": [],
   "source": [
    "Nevts = 100000\n",
    "Npad1_list, zen_list, azi_list = [], [], []\n",
    "eff_list = simulation(Nevts, Npad1_list, zen_list, azi_list)\n",
    "Npads_1 = np.array(Npad1_list)\n",
    "Azimute, Zenite = np.array(azi_list), np.array(zen_list)"
   ]
  },
  {
   "cell_type": "markdown",
   "metadata": {},
   "source": [
    "Podemos fazer um gráfico da eficiência em função da pad:"
   ]
  },
  {
   "cell_type": "code",
   "execution_count": null,
   "metadata": {},
   "outputs": [],
   "source": [
    "plt.plot(eff_list)\n",
    "plt.ylabel(\"Eficiência\")\n",
    "plt.xlabel(\"Pad\")\n",
    "plt.title(\"RPC superior\")\n",
    "plt.show()"
   ]
  },
  {
   "cell_type": "markdown",
   "metadata": {},
   "source": [
    "Responda: a distribuição da eficiência tem o formato que você esperava? Por quê?"
   ]
  },
  {
   "attachments": {},
   "cell_type": "markdown",
   "metadata": {},
   "source": [
    "### Fluxo de múons\n",
    "\n",
    "Agora que determinamos a eficiência e temos o número de eventos observados, ambos em função das pads da RPC, podemos obter o fluxo de múons em cada pad! O fluxo $F_i$, onde $i$ é um indice referente à pad da RPC ($i=1,...,64$), é dado pela expressão:\n",
    "\n",
    "$$\n",
    "F_i = \\frac{N_{obs}^{i}}{A\\times \\Delta t\\times \\varepsilon_{geom.}^{i}\\times \\varepsilon_{det.}^{i} \\times \\omega(\\theta)}.\n",
    "$$\n",
    "\n",
    "Na expressão acima, para cada pad, $A=L_x \\times L_y$ é a área, $\\Delta t$ o tempo de coleta de dados, $N_{obs}^{i}$ é o número de contagens observada e $\\varepsilon_{geom.}^{i}$ a eficiência geométrica, $\\varepsilon_{det.}^{i}$ a eficiência de detecção, e $\\omega(\\theta)$ um fator angular devido à incidência não isotrópica de múons. "
   ]
  },
  {
   "cell_type": "code",
   "execution_count": 1,
   "metadata": {},
   "outputs": [
    {
     "ename": "ModuleNotFoundError",
     "evalue": "No module named 'ROOT'",
     "output_type": "error",
     "traceback": [
      "\u001b[1;31m---------------------------------------------------------------------------\u001b[0m",
      "\u001b[1;31mModuleNotFoundError\u001b[0m                       Traceback (most recent call last)",
      "Cell \u001b[1;32mIn[1], line 1\u001b[0m\n\u001b[1;32m----> 1\u001b[0m \u001b[39mfrom\u001b[39;00m \u001b[39mROOT\u001b[39;00m \u001b[39mimport\u001b[39;00m TH1D, TH2D, TColor, gStyle\n\u001b[0;32m      3\u001b[0m hFlux_Top \u001b[39m=\u001b[39m TH1D(\u001b[39m\"\u001b[39m\u001b[39mhFlux_Top\u001b[39m\u001b[39m\"\u001b[39m, \u001b[39m\"\u001b[39m\u001b[39mFluxo por pad;Pad; Contagens / m^2\u001b[39m\u001b[39m\"\u001b[39m, \u001b[39m64\u001b[39m, \u001b[39m0.5\u001b[39m, \u001b[39m64.5\u001b[39m)\n\u001b[0;32m      4\u001b[0m hNcor_Top_2D \u001b[39m=\u001b[39m TH2D(\u001b[39m\"\u001b[39m\u001b[39mhNcor_Top_2D\u001b[39m\u001b[39m\"\u001b[39m, \u001b[39m\"\u001b[39m\u001b[39mFluxo por pad; Pad; Pad\u001b[39m\u001b[39m\"\u001b[39m, \u001b[39m8\u001b[39m, \u001b[39m0.5\u001b[39m, \u001b[39m8.5\u001b[39m, \u001b[39m8\u001b[39m, \u001b[39m0.5\u001b[39m, \u001b[39m8.5\u001b[39m)\n",
      "\u001b[1;31mModuleNotFoundError\u001b[0m: No module named 'ROOT'"
     ]
    }
   ],
   "source": [
    "from ROOT import TH1D, TH2D, TColor, gStyle\n",
    "\n",
    "hFlux_Top = TH1D(\"hFlux_Top\", \"Fluxo por pad;Pad; Contagens / m^2\", 64, 0.5, 64.5)\n",
    "hNcor_Top_2D = TH2D(\"hNcor_Top_2D\", \"Fluxo por pad; Pad; Pad\", 8, 0.5, 8.5, 8, 0.5, 8.5)\n",
    "hFlux_Top_2D = TH2D(\"hFlux_Top_2D\", \"Fluxo por pad; Pad; Pad\", 8, 0.5, 8.5, 8, 0.5, 8.5)\n",
    "overArea = 100*100./(Lx*Ly) #multiplicado por 100*100 para passar de cm^-2 para m^-2\n",
    "overDeltaT = 1./28482 #tempo de coleta\n",
    "eff_det = 0.80\n",
    "ang_factor = 2*pi/3.\n",
    "for i in nPads_RPC1:\n",
    "    hFlux_Top.Fill(i, 1./eff_list[i-1]*overArea*overDeltaT)\n",
    "    line, col = getLineAndCol(i)\n",
    "    hNcor_Top_2D.Fill(col, line, 1./eff_list[i-1])\n",
    "    hFlux_Top_2D.Fill(col, line, 1./(eff_list[i-1]*eff_det)*overArea*overDeltaT)"
   ]
  },
  {
   "cell_type": "markdown",
   "metadata": {},
   "source": [
    "Com isso, podemos agora \"plotar\" os resultados:"
   ]
  },
  {
   "cell_type": "code",
   "execution_count": null,
   "metadata": {},
   "outputs": [],
   "source": [
    "c1 = TCanvas(\"c1\", \"\", 600, 600)\n",
    "hFlux_Top.SetStats(0)\n",
    "hFlux_Top.Draw(\"EP\")\n",
    "c1.Draw()"
   ]
  },
  {
   "cell_type": "code",
   "execution_count": null,
   "metadata": {},
   "outputs": [],
   "source": [
    "gStyle.SetPadRightMargin(0.20)\n",
    "gStyle.SetPalette(75)\n",
    "TColor.InvertPalette()\n",
    "c2 = TCanvas(\"c2\", \"\", 600, 600)\n",
    "hNcor_Top_2D.SetStats(0)\n",
    "hNcor_Top_2D.Draw(\"COLZ\")\n",
    "c2.Draw()"
   ]
  },
  {
   "cell_type": "code",
   "execution_count": null,
   "metadata": {},
   "outputs": [],
   "source": [
    "c3 = TCanvas(\"c3\", \"\", 600, 600)\n",
    "hFlux_Top_2D.SetStats(0)\n",
    "hFlux_Top_2D.Draw(\"COLZ\")\n",
    "c3.Draw()"
   ]
  },
  {
   "cell_type": "markdown",
   "metadata": {},
   "source": [
    "Observe como o padrão em 2D é bem mais uniforme após a correção pela eficiência!"
   ]
  },
  {
   "cell_type": "code",
   "execution_count": null,
   "metadata": {},
   "outputs": [],
   "source": []
  },
  {
   "cell_type": "code",
   "execution_count": null,
   "metadata": {},
   "outputs": [],
   "source": []
  }
 ],
 "metadata": {
  "authors": [
   {
    "name": "Felipe L. S. de Almeida"
   },
   {
    "name": "Alberto C. dos Reis"
   }
  ],
  "kernelspec": {
   "display_name": "Python 3",
   "language": "python",
   "name": "python3"
  },
  "language_info": {
   "codemirror_mode": {
    "name": "ipython",
    "version": 3
   },
   "file_extension": ".py",
   "mimetype": "text/x-python",
   "name": "python",
   "nbconvert_exporter": "python",
   "pygments_lexer": "ipython3",
   "version": "3.9.13"
  },
  "title": "EAFExp - Análise",
  "vscode": {
   "interpreter": {
    "hash": "76813a6824125cf41d3d63816927c078642110ebe65916c0d466e8f06d2b039d"
   }
  }
 },
 "nbformat": 4,
 "nbformat_minor": 2
}
